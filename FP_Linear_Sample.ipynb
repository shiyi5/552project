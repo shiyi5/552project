{
 "cells": [
  {
   "cell_type": "markdown",
   "metadata": {},
   "source": [
    "# Sample of using data and uploading submisions <br>\n"
   ]
  },
  {
   "cell_type": "markdown",
   "metadata": {},
   "source": [
    "## Imported libraries and function"
   ]
  },
  {
   "cell_type": "code",
   "execution_count": 29,
   "metadata": {},
   "outputs": [],
   "source": [
    "import pandas as pd\n",
    "from sklearn import datasets, linear_model\n",
    "import numpy as np"
   ]
  },
  {
   "cell_type": "markdown",
   "metadata": {},
   "source": [
    "## Get the data frame"
   ]
  },
  {
   "cell_type": "code",
   "execution_count": 70,
   "metadata": {},
   "outputs": [],
   "source": [
    "# The unmodified dataframe for training and testing\n",
    "train_df_full = pd.read_csv('train.csv', sep=',',header= 0, na_values=\"?\")\n",
    "test_df_full =pd.read_csv('test.csv', sep=',',header= 0, na_values=\"?\")"
   ]
  },
  {
   "cell_type": "code",
   "execution_count": 78,
   "metadata": {},
   "outputs": [],
   "source": [
    "# Taking out vendor_id, id, times for simplicity\n",
    "train_df_noIDTime= train_df_full.drop(['vendor_id','id','pickup_datetime','dropoff_datetime','store_and_fwd_flag'],axis =1)\n",
    "test_df_noIDTime = df_test_full.drop(['vendor_id','id','pickup_datetime','store_and_fwd_flag'],axis =1)"
   ]
  },
  {
   "cell_type": "code",
   "execution_count": 80,
   "metadata": {},
   "outputs": [],
   "source": [
    "train_df_duration = train_df_noIDTime['trip_duration']\n",
    "train_y = np.array(train_df_duration)\n",
    "train_x = np.array(train_df_noIDTime.drop(['trip_duration'],axis =1))\n",
    "test_x = np.array(test_df_noIDTime)"
   ]
  },
  {
   "cell_type": "markdown",
   "metadata": {},
   "source": [
    "## Train the linear regression"
   ]
  },
  {
   "cell_type": "code",
   "execution_count": 83,
   "metadata": {},
   "outputs": [
    {
     "name": "stdout",
     "output_type": "stream",
     "text": [
      "0.20730680599808693\n"
     ]
    }
   ],
   "source": [
    "regr = linear_model.LinearRegression()\n",
    "# Timer\n",
    "import timeit\n",
    "start_time = timeit.default_timer()\n",
    "\n",
    "# Actual training\n",
    "regr.fit(train_x, train_y)\n",
    "prediction_y = regr.predict(test_x)\n",
    "elapsed = timeit.default_timer() - start_time\n",
    "print (elapsed)\n",
    "\n"
   ]
  },
  {
   "cell_type": "markdown",
   "metadata": {},
   "source": [
    "## Predict the outcome, and create csv file"
   ]
  },
  {
   "cell_type": "code",
   "execution_count": 84,
   "metadata": {},
   "outputs": [],
   "source": [
    "# Get test id\n",
    "df_test_id = test_df_full['id']\n",
    "\n",
    "# Make the dataframe\n",
    "duration_content = np.rint(prediction_y)\n",
    "id_content = np.array(df_test_id)\n",
    "\n",
    "df = pd.DataFrame({\n",
    "    'id':id_content,\n",
    "    'trip_duration':duration_content\n",
    "})\n",
    "\n",
    "# Create the csv file\n",
    "df.to_csv('out.csv',index= False)\n",
    "\n",
    "# Now, upload the csv file to\n",
    "# https://www.kaggle.com/c/nyc-taxi-trip-duration/submit"
   ]
  }
 ],
 "metadata": {
  "kernelspec": {
   "display_name": "Python 3",
   "language": "python",
   "name": "python3"
  },
  "language_info": {
   "codemirror_mode": {
    "name": "ipython",
    "version": 3
   },
   "file_extension": ".py",
   "mimetype": "text/x-python",
   "name": "python",
   "nbconvert_exporter": "python",
   "pygments_lexer": "ipython3",
   "version": "3.6.3"
  }
 },
 "nbformat": 4,
 "nbformat_minor": 2
}
